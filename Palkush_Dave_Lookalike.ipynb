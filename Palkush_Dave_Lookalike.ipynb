{
  "nbformat": 4,
  "nbformat_minor": 0,
  "metadata": {
    "colab": {
      "provenance": [],
      "authorship_tag": "ABX9TyNaxtgvTpcWVjcDqm0SBr5K",
      "include_colab_link": true
    },
    "kernelspec": {
      "name": "python3",
      "display_name": "Python 3"
    },
    "language_info": {
      "name": "python"
    }
  },
  "cells": [
    {
      "cell_type": "markdown",
      "metadata": {
        "id": "view-in-github",
        "colab_type": "text"
      },
      "source": [
        "<a href=\"https://colab.research.google.com/github/003Palkush/Zeotap/blob/main/Palkush_Dave_Lookalike.ipynb\" target=\"_parent\"><img src=\"https://colab.research.google.com/assets/colab-badge.svg\" alt=\"Open In Colab\"/></a>"
      ]
    },
    {
      "cell_type": "markdown",
      "source": [
        "Importing Dependacies and Loading FIle"
      ],
      "metadata": {
        "id": "viQWhWRTiFSY"
      }
    },
    {
      "cell_type": "code",
      "execution_count": 2,
      "metadata": {
        "id": "GZm4uCTBhMkC"
      },
      "outputs": [],
      "source": [
        "import pandas as pd\n",
        "import numpy as np\n",
        "from sklearn.preprocessing import StandardScaler\n",
        "from sklearn.metrics.pairwise import cosine_similarity\n",
        "\n",
        "# Load the datasets\n",
        "customers = pd.read_csv('Customers.csv')\n",
        "products = pd.read_csv('Products.csv')\n",
        "transactions = pd.read_csv('Transactions.csv')\n",
        "\n",
        "\n"
      ]
    },
    {
      "cell_type": "code",
      "source": [
        "# Merge transactions with products to get category information\n",
        "transactions = transactions.merge(products[['ProductID', 'Category']], on='ProductID')\n"
      ],
      "metadata": {
        "id": "h5TwBxSWiqSB"
      },
      "execution_count": 3,
      "outputs": []
    },
    {
      "cell_type": "markdown",
      "source": [
        "Feature engineering"
      ],
      "metadata": {
        "id": "mLXU5ACeiNJk"
      }
    },
    {
      "cell_type": "code",
      "source": [
        "def create_customer_features(customers, transactions):\n",
        "    # Customer profile features\n",
        "    customer_features = customers.set_index('CustomerID')\n",
        "    customer_features['SignupDate'] = pd.to_datetime(customer_features['SignupDate'])\n",
        "    customer_features['DaysSinceSignup'] = (pd.Timestamp.now() - customer_features['SignupDate']).dt.days\n",
        "\n",
        "    # One-hot encode Region\n",
        "    region_dummies = pd.get_dummies(customer_features['Region'], prefix='Region')\n",
        "    customer_features = pd.concat([customer_features, region_dummies], axis=1)\n",
        "\n",
        "    # Transaction-based features\n",
        "    transaction_features = transactions.groupby('CustomerID').agg({\n",
        "        'TotalValue': ['sum', 'mean'],\n",
        "        'Quantity': ['sum', 'mean'],\n",
        "        'TransactionID': 'count'\n",
        "    })\n",
        "    transaction_features.columns = ['TotalSpend', 'AvgOrderValue', 'TotalQuantity', 'AvgQuantity', 'TransactionCount']\n",
        "\n",
        "    # Category preferences\n",
        "    category_preferences = transactions.groupby(['CustomerID', 'Category'])['Quantity'].sum().unstack(fill_value=0)\n",
        "    category_preferences = category_preferences.div(category_preferences.sum(axis=1), axis=0)\n",
        "\n",
        "    # Combine all features\n",
        "    all_features = customer_features.join(transaction_features).join(category_preferences)\n",
        "    all_features = all_features.drop(['CustomerName', 'SignupDate', 'Region'], axis=1)\n",
        "\n",
        "    return all_features\n",
        "\n",
        "# Create features\n",
        "customer_features = create_customer_features(customers, transactions)\n",
        "\n",
        "# Replace NaN values with mean\n",
        "customer_features = customer_features.fillna(customer_features.mean())\n",
        "\n",
        "# Normalize features\n",
        "scaler = StandardScaler()\n",
        "normalized_features = scaler.fit_transform(customer_features)\n",
        "\n",
        "# Calculate cosine similarity\n",
        "similarity_matrix = cosine_similarity(normalized_features)\n",
        "\n",
        "# Function to get top 3 lookalikes\n",
        "def get_lookalikes(customer_id, top_n=3):\n",
        "    customer_index = customer_features.index.get_loc(customer_id)\n",
        "    similarities = similarity_matrix[customer_index]\n",
        "    top_indices = similarities.argsort()[-top_n-1:-1][::-1]\n",
        "    top_similarities = similarities[top_indices]\n",
        "    top_customers = customer_features.index[top_indices]\n",
        "    return list(zip(top_customers, top_similarities))\n",
        "\n",
        "\n"
      ],
      "metadata": {
        "id": "CzXsqYXsivEP"
      },
      "execution_count": 4,
      "outputs": []
    },
    {
      "cell_type": "markdown",
      "source": [
        "Generating the file"
      ],
      "metadata": {
        "id": "ArBXblHEiWXL"
      }
    },
    {
      "cell_type": "code",
      "source": [
        "# Generate lookalikes for first 20 customers\n",
        "lookalike_results = {}\n",
        "for customer_id in customers['CustomerID'][:20]:\n",
        "    lookalikes = get_lookalikes(customer_id)\n",
        "    lookalike_results[customer_id] = lookalikes\n",
        "\n",
        "# Create Lookalike.csv\n",
        "lookalike_df = pd.DataFrame.from_dict(lookalike_results, orient='index')\n",
        "lookalike_df.columns = ['Lookalike1', 'Lookalike2', 'Lookalike3']\n",
        "lookalike_df.to_csv('Lookalike.csv')\n",
        "\n",
        "print(\"Lookalike model completed. Results saved to Lookalike.csv\")"
      ],
      "metadata": {
        "colab": {
          "base_uri": "https://localhost:8080/"
        },
        "id": "D3wq8wF6jDna",
        "outputId": "b47bce5b-1e0f-4c4b-fd74-801d567f7d82"
      },
      "execution_count": 5,
      "outputs": [
        {
          "output_type": "stream",
          "name": "stdout",
          "text": [
            "Lookalike model completed. Results saved to Lookalike.csv\n"
          ]
        }
      ]
    }
  ]
}